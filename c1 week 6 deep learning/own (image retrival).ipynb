{
 "cells": [
  {
   "cell_type": "markdown",
   "metadata": {},
   "source": [
    "# impoting"
   ]
  },
  {
   "cell_type": "code",
   "execution_count": 2,
   "metadata": {},
   "outputs": [
    {
     "data": {
      "text/html": [
       "<html lang=\"en\">                                                     <head>                                                               <style>                                                              .sframe {                                                            font-size: 12px;                                                   font-family: HelveticaNeue;                                        border: 1px solid silver;                                        }                                                                  .sframe thead th {                                                   background: #F7F7F7;                                               font-family: HelveticaNeue-Medium;                                 font-size: 14px;                                                   line-height: 16.8px;                                               padding-top: 16px;                                                 padding-bottom: 16px;                                              padding-left: 10px;                                                padding-right: 38px;                                               border-top: 1px solid #E9E9E9;                                     border-bottom: 1px solid #E9E9E9;                                  white-space: nowrap;                                               overflow: hidden;                                                  text-overflow:ellipsis;                                            text-align:center;                                                 font-weight:normal;                                              }                                                                  .sframe tbody th {                                                   background: #FFFFFF;                                               text-align:left;                                                   font-weight:normal;                                                border-right: 1px solid #E9E9E9;                                 }                                                                  .sframe td {                                                         background: #FFFFFF;                                               padding-left: 10px;                                                padding-right: 38px;                                               padding-top: 14px;                                                 padding-bottom: 14px;                                              border-bottom: 1px solid #E9E9E9;                                  max-height: 0px;                                                   transition: max-height 5s ease-out;                                vertical-align: middle;                                            font-family: HelveticaNeue;                                        font-size: 12px;                                                   line-height: 16.8px;                                               background: #FFFFFF;                                             }                                                                  .sframe tr {                                                         padding-left: 10px;                                                padding-right: 38px;                                               padding-top: 14px;                                                 padding-bottom: 14px;                                              border-bottom: 1px solid #E9E9E9;                                  max-height: 0px;                                                   transition: max-height 5s ease-out;                                vertical-align: middle;                                            font-family: HelveticaNeue;                                        font-size: 12px;                                                   line-height: 16.8px;                                               background: #FFFFFF;                                             }                                                                  .sframe tr:hover {                                                   background: silver;                                              },                                                               </style>                                                         </head>                                                            <body>                                                               <h1>  </h1>                                             <table border=\"1\" class=\"dataframe sframe\">\n",
       "  <thead>\n",
       "    <tr style=\"text-align: right;\">\n",
       "      <th></th>\n",
       "      <th>id</th>\n",
       "      <th>image</th>\n",
       "      <th>label</th>\n",
       "      <th>deep_features</th>\n",
       "      <th>image_array</th>\n",
       "    </tr>\n",
       "  </thead>\n",
       "  <tbody>\n",
       "    <tr>\n",
       "      <th>0</th>\n",
       "      <td>24</td>\n",
       "      <td><img src=\"data:image/png;base64,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\"/></td>\n",
       "      <td>bird</td>\n",
       "      <td>[0.24287176132202148, 1.0954537391662598, 0.0, 0.39362990856170654, 0.0, 0.0, 11.894915580749512, 0.0, 0.0, 0.0, 0.0, 0.0, 0.0, 0.0, 0.0, 0.0, 0.0, 0.5788496136665344, 0.4954667389392853, 2.5141289234161377, 0.0, 1.5180106163024902, 0.0, 0.0, 0.0, 0.0, 0.0, 0.0, 0.0, 0.0, 0.0, 0.0, 0.0, 0.0, 0.0, 1.5813961029052734, 0.0, 0.0, 2.595609426498413, 2.7079553604125977, 0.0, 0.0, 0.0, 0.8509902954101562, 0.0, 0.7203489542007446, 0.0, 0.0, 0.0, 0.0, 0.0, 0.2700355052947998, 0.0, 0.0, 0.0, 0.0, 0.08592796325683594, 0.0, 0.7010231018066406, 0.0, 0.0, 0.0, 0.0, 0.024805665016174316, 0.0, 0.0, 0.17549043893814087, 0.0, 0.0, 0.0, 0.0, 0.0, 2.392784595489502, 0.0, 0.0, 4.471865653991699, 0.0, 1.6358323097229004, 0.0, 4.417484760284424, 0.0, 0.0, 0.0, 0.0, 0.0, 0.0, 0.0, 0.0, 0.0, 0.0, 0.0, 1.4117904901504517, 0.0, 0.0, 0.0, 0.0, 0.0, 0.0, 0.0, 0.0, ...]</td>\n",
       "      <td>[73.0, 77.0, 58.0, 71.0, 68.0, 50.0, 77.0, 69.0, 44.0, 120.0, 116.0, 83.0, 125.0, 120.0, 90.0, 155.0, 148.0, 117.0, 147.0, 152.0, 106.0, 133.0, 136.0, 92.0, 112.0, 101.0, 75.0, 100.0, 84.0, 68.0, 100.0, 78.0, 74.0, 69.0, 49.0, 51.0, 22.0, 16.0, 13.0, 35.0, 27.0, 24.0, 52.0, 40.0, 40.0, 70.0, 55.0, 54.0, 117.0, 97.0, 89.0, 122.0, 101.0, 99.0, 103.0, 85.0, 88.0, 88.0, 74.0, 73.0, 68.0, 59.0, 52.0, 72.0, 65.0, 52.0, 82.0, 73.0, 60.0, 84.0, 72.0, 68.0, 84.0, 67.0, 73.0, 77.0, 56.0, 65.0, 93.0, 75.0, 81.0, 117.0, 102.0, 98.0, 174.0, 171.0, 146.0, 183.0, 210.0, 149.0, 180.0, 214.0, 143.0, 185.0, 225.0, 144.0, 73.0, 74.0, 52.0, 75.0, ...]</td>\n",
       "    </tr>\n",
       "    <tr>\n",
       "      <th>1</th>\n",
       "      <td>33</td>\n",
       "      <td><img src=\"data:image/png;base64,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\"/></td>\n",
       "      <td>cat</td>\n",
       "      <td>[0.5250879526138306, 0.0, 0.0, 0.0, 0.0, 0.0, 9.948286056518555, 0.0, 0.0, 0.0, 0.0, 0.0, 1.0126363039016724, 0.0, 0.0, 0.0, 0.0, 0.0, 0.0, 0.0, 0.0, 1.1646251678466797, 0.0, 0.0, 0.0, 0.0, 0.4600375294685364, 0.0, 0.0, 0.0, 0.0, 0.0, 0.0, 0.0, 0.0, 0.3580564260482788, 0.0, 0.0, 3.517725944519043, 2.9159154891967773, 0.0, 0.0, 0.0, 0.0, 0.4551548957824707, 0.0, 0.0, 0.0, 0.9146482944488525, 0.0, 0.0, 0.0, 0.0, 0.0, 0.0, 0.0, 0.0, 0.0, 0.0, 0.0, 0.0, 0.0, 0.0, 0.8120278716087341, 0.04379773139953613, 0.0, 1.6515014171600342, 0.0, 0.0, 0.0, 0.0, 0.0, 1.3530466556549072, 0.0, 0.0, 1.4851171970367432, 0.0, 0.0, 0.0, 1.5763869285583496, 0.0, 0.0, 0.0, 0.0, 0.0, 0.0, 0.0, 0.0, 0.0, 0.0, 0.0, 3.6830389499664307, 1.643679141998291, 0.0, 0.0, 0.0, 0.0, 0.0, 0.0, 0.0, ...]</td>\n",
       "      <td>[7.0, 5.0, 8.0, 7.0, 5.0, 8.0, 5.0, 4.0, 6.0, 7.0, 4.0, 7.0, 11.0, 5.0, 9.0, 11.0, 5.0, 9.0, 17.0, 11.0, 15.0, 25.0, 19.0, 23.0, 18.0, 9.0, 17.0, 9.0, 1.0, 9.0, 13.0, 7.0, 15.0, 24.0, 19.0, 27.0, 21.0, 19.0, 25.0, 34.0, 32.0, 35.0, 52.0, 43.0, 42.0, 40.0, 27.0, 26.0, 19.0, 9.0, 10.0, 11.0, 6.0, 10.0, 20.0, 16.0, 18.0, 36.0, 29.0, 28.0, 25.0, 20.0, 22.0, 23.0, 19.0, 22.0, 32.0, 21.0, 22.0, 33.0, 26.0, 29.0, 58.0, 57.0, 61.0, 73.0, 75.0, 81.0, 83.0, 91.0, 94.0, 61.0, 68.0, 66.0, 69.0, 71.0, 66.0, 82.0, 84.0, 78.0, 80.0, 85.0, 81.0, 69.0, 73.0, 68.0, 6.0, 4.0, 8.0, 6.0, ...]</td>\n",
       "    </tr>\n",
       "    <tr>\n",
       "      <th>2</th>\n",
       "      <td>36</td>\n",
       "      <td><img src=\"data:image/png;base64,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\"/></td>\n",
       "      <td>cat</td>\n",
       "      <td>[0.5660159587860107, 0.0, 0.0, 0.0, 0.0, 0.0, 9.997204780578613, 0.0, 0.0, 0.0, 1.38345205783844, 0.0, 0.7764788269996643, 0.0, 0.0, 0.044802725315093994, 0.22744053602218628, 0.5177360773086548, 0.0, 1.5863749980926514, 0.0, 1.238269329071045, 0.0, 0.6377935409545898, 1.8000781536102295, 1.9250504970550537, 0.06807559728622437, 0.0, 0.0, 0.0, 0.0, 0.0, 0.0, 0.0, 0.0, 0.0, 0.0, 0.0, 2.452914237976074, 0.7830307483673096, 0.0, 0.0, 0.014504671096801758, 0.0, 0.0, 1.1913495063781738, 0.0, 0.0, 0.0, 0.0, 0.0, 0.0, 0.0, 0.0, 0.0, 1.8588502407073975, 0.23833894729614258, 0.0, 0.0, 0.0, 0.0, 0.0, 0.0, 0.4233408570289612, 0.0, 0.9965428113937378, 2.3011531829833984, 0.0, 0.0, 0.0, 0.0, 0.0, 2.076474189758301, 0.07118624448776245, 0.0, 1.7414445877075195, 0.0, 0.0, 0.0, 0.0, 0.0, 0.0, 0.3547537922859192, 0.0, 0.0, 0.0, 0.0, 0.0, 0.0, 0.0, 0.0, 2.167968273162842, 0.0, 0.0, 0.0, 0.0, 0.0, 0.0, 0.0, 0.0, ...]</td>\n",
       "      <td>[169.0, 122.0, 65.0, 131.0, 108.0, 75.0, 193.0, 196.0, 192.0, 218.0, 221.0, 222.0, 211.0, 215.0, 216.0, 206.0, 214.0, 216.0, 200.0, 211.0, 212.0, 193.0, 206.0, 206.0, 186.0, 201.0, 201.0, 182.0, 197.0, 196.0, 178.0, 192.0, 192.0, 173.0, 187.0, 187.0, 167.0, 182.0, 182.0, 160.0, 175.0, 175.0, 155.0, 169.0, 169.0, 150.0, 164.0, 164.0, 144.0, 158.0, 158.0, 139.0, 153.0, 153.0, 134.0, 148.0, 148.0, 133.0, 144.0, 144.0, 130.0, 140.0, 141.0, 126.0, 136.0, 137.0, 125.0, 136.0, 137.0, 128.0, 138.0, 139.0, 131.0, 141.0, 142.0, 131.0, 144.0, 144.0, 149.0, 163.0, 163.0, 176.0, 194.0, 192.0, 173.0, 192.0, 190.0, 172.0, 187.0, 187.0, 169.0, 183.0, 183.0, 166.0, 181.0, 181.0, 165.0, 119.0, 62.0, 127.0, ...]</td>\n",
       "    </tr>\n",
       "    <tr>\n",
       "      <th>3</th>\n",
       "      <td>70</td>\n",
       "      <td><img src=\"data:image/png;base64,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\"/></td>\n",
       "      <td>dog</td>\n",
       "      <td>[1.129795789718628, 0.0, 0.0, 0.7781944870948792, 0.0, 0.7580507397651672, 9.830528259277344, 0.0, 0.0, 0.3359845280647278, 1.4368550777435303, 0.0, 0.6936846375465393, 0.5465153455734253, 0.0, 2.281771659851074, 1.1627955436706543, 0.0, 1.0174895524978638, 0.9841647744178772, 0.0, 0.0, 0.0, 0.0, 0.0, 0.44535189867019653, 1.1986297369003296, 0.0, 0.0, 0.0, 0.0, 0.7591323256492615, 0.0, 0.0, 0.0, 1.2109084129333496, 0.0, 0.0, 0.8030069470405579, 3.3419036865234375, 0.09085524082183838, 0.0, 0.0, 0.0, 1.7052054405212402, 0.0, 0.0, 0.0, 1.2302614450454712, 0.0, 0.0, 0.0, 0.0, 2.2543110847473145, 0.0, 0.0, 0.0, 0.0, 1.3402646780014038, 0.0, 0.0, 0.0, 0.0, 0.0, 0.0, 0.0, 0.9604072570800781, 0.0, 0.0, 0.0, 0.0, 0.0, 0.7255735397338867, 0.0, 0.0, 3.4575352668762207, 0.0, 0.0, 0.0, 0.674890398979187, 0.0, 0.0, 0.0, 0.9721157550811768, 0.1164623498916626, 0.03760480880737305, 0.0, 0.0, 0.0, 0.0, 0.0, 0.8196851015090942, 0.0, 0.0, 0.0, 0.0, 0.0, 0.0, 0.0, 0.0, ...]</td>\n",
       "      <td>[154.0, 179.0, 152.0, 159.0, 183.0, 157.0, 165.0, 189.0, 162.0, 174.0, 199.0, 171.0, 168.0, 194.0, 164.0, 162.0, 187.0, 158.0, 156.0, 182.0, 152.0, 157.0, 182.0, 154.0, 149.0, 173.0, 147.0, 146.0, 170.0, 144.0, 146.0, 170.0, 144.0, 148.0, 172.0, 146.0, 153.0, 178.0, 152.0, 156.0, 181.0, 155.0, 156.0, 180.0, 154.0, 149.0, 173.0, 146.0, 141.0, 163.0, 136.0, 148.0, 171.0, 143.0, 159.0, 182.0, 154.0, 153.0, 175.0, 147.0, 136.0, 160.0, 133.0, 126.0, 150.0, 124.0, 125.0, 149.0, 123.0, 135.0, 160.0, 133.0, 144.0, 169.0, 142.0, 144.0, 169.0, 142.0, 136.0, 160.0, 134.0, 130.0, 154.0, 127.0, 131.0, 157.0, 131.0, 129.0, 161.0, 137.0, 125.0, 158.0, 133.0, 122.0, 155.0, 131.0, 156.0, 177.0, 152.0, 160.0, ...]</td>\n",
       "    </tr>\n",
       "    <tr>\n",
       "      <th>4</th>\n",
       "      <td>90</td>\n",
       "      <td><img src=\"data:image/png;base64,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\"/></td>\n",
       "      <td>bird</td>\n",
       "      <td>[1.7178692817687988, 0.0, 0.0, 0.0, 0.0, 0.0, 9.339357376098633, 0.0, 0.0, 0.0, 0.0, 0.0, 0.41213685274124146, 0.0, 0.0, 0.0, 0.0, 2.2255680561065674, 0.0, 0.0, 0.0, 0.0, 0.0, 0.0, 0.0, 0.0, 0.0, 0.0, 0.0, 0.0, 0.0, 0.0, 0.0, 0.0, 0.0, 0.0, 0.0, 0.0, 1.5621209144592285, 0.22632616758346558, 0.0, 0.0, 0.0, 1.3728748559951782, 0.0, 0.0, 0.0, 0.0, 0.745336651802063, 0.0, 0.0, 0.0, 0.0, 0.0, 0.0, 0.0, 0.0, 0.0, 0.0, 0.0, 0.0, 0.0, 0.0, 0.10651791095733643, 1.2435784339904785, 0.0, 0.0, 0.0, 0.0, 0.0, 0.0, 0.0, 1.1518467664718628, 0.0, 0.0, 0.9403001070022583, 0.0, 0.0, 0.0, 2.1279678344726562, 1.4864777326583862, 0.0, 0.0, 0.0, 0.0, 0.0, 0.0, 0.0, 0.0, 0.0, 0.0, 4.988735675811768, 0.18771475553512573, 0.31227797269821167, 0.0, 0.0, 0.0, 0.0, 0.0, 0.0, ...]</td>\n",
       "      <td>[216.0, 195.0, 180.0, 201.0, 178.0, 160.0, 210.0, 184.0, 164.0, 212.0, 188.0, 171.0, 217.0, 195.0, 178.0, 202.0, 178.0, 158.0, 177.0, 150.0, 128.0, 188.0, 162.0, 141.0, 198.0, 176.0, 157.0, 196.0, 173.0, 157.0, 198.0, 175.0, 162.0, 207.0, 184.0, 173.0, 197.0, 177.0, 162.0, 197.0, 178.0, 163.0, 213.0, 194.0, 179.0, 201.0, 182.0, 166.0, 187.0, 169.0, 150.0, 193.0, 176.0, 156.0, 209.0, 191.0, 175.0, 186.0, 168.0, 155.0, 140.0, 120.0, 100.0, 131.0, 112.0, 91.0, 80.0, 64.0, 46.0, 62.0, 43.0, 21.0, 96.0, 73.0, 51.0, 133.0, 110.0, 93.0, 139.0, 119.0, 101.0, 149.0, 132.0, 112.0, 142.0, 124.0, 105.0, 172.0, 149.0, 130.0, 196.0, 177.0, 153.0, 202.0, 189.0, 166.0, 202.0, 179.0, 164.0, 222.0, ...]</td>\n",
       "    </tr>\n",
       "    <tr>\n",
       "      <th>5</th>\n",
       "      <td>97</td>\n",
       "      <td><img src=\"data:image/png;base64,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\"/></td>\n",
       "      <td>automobile</td>\n",
       "      <td>[1.5781855583190918, 0.0, 0.0, 0.0, 0.0, 0.0, 9.00632381439209, 0.0, 0.0, 0.0, 0.0, 0.0, 0.0, 0.0, 0.0, 2.090169906616211, 1.7982933521270752, 0.0, 0.0, 0.5012003183364868, 0.0, 0.39682477712631226, 0.0, 0.0, 0.0, 0.0, 0.0, 0.0, 0.0, 0.0, 0.0, 0.0, 0.6626229286193848, 0.0, 0.0, 2.9807496070861816, 0.0, 0.0, 0.0, 2.5338637828826904, 0.0, 0.0, 0.5927319526672363, 0.0, 0.9453227519989014, 1.1874688863754272, 0.0, 0.0, 1.2870512008666992, 0.0, 0.0, 0.0, 0.0, 0.0, 0.0, 0.0, 0.0, 0.0, 0.0, 0.0, 0.7842198610305786, 0.0, 0.0, 1.573988676071167, 0.07516872882843018, 0.0, 1.8824067115783691, 0.0, 0.0, 0.0, 0.0, 0.0, 1.9157606363296509, 0.0, 0.0, 2.4746718406677246, 0.0, 0.0, 0.0, 2.3033666610717773, 0.2879739999771118, 0.0, 0.0, 0.535090446472168, 0.0, 0.0, 0.0, 0.0, 0.0, 0.0, 0.0, 0.8188357353210449, 0.3611135482788086, 0.0, 0.0, 0.0, 0.0, 0.0, 0.0, 0.0, ...]</td>\n",
       "      <td>[33.0, 44.0, 27.0, 29.0, 44.0, 31.0, 32.0, 45.0, 34.0, 38.0, 53.0, 38.0, 46.0, 62.0, 45.0, 38.0, 54.0, 44.0, 42.0, 59.0, 47.0, 51.0, 72.0, 53.0, 52.0, 77.0, 61.0, 82.0, 113.0, 101.0, 60.0, 90.0, 74.0, 58.0, 87.0, 67.0, 107.0, 141.0, 134.0, 153.0, 194.0, 210.0, 172.0, 215.0, 239.0, 177.0, 215.0, 238.0, 189.0, 223.0, 242.0, 186.0, 221.0, 239.0, 182.0, 218.0, 238.0, 183.0, 219.0, 238.0, 181.0, 217.0, 236.0, 182.0, 217.0, 237.0, 184.0, 218.0, 237.0, 179.0, 215.0, 234.0, 175.0, 212.0, 234.0, 173.0, 210.0, 231.0, 171.0, 207.0, 229.0, 167.0, 205.0, 227.0, 159.0, 200.0, 225.0, 157.0, 197.0, 221.0, 162.0, 199.0, 216.0, 160.0, 194.0, 213.0, 25.0, 40.0, 24.0, 24.0, ...]</td>\n",
       "    </tr>\n",
       "    <tr>\n",
       "      <th>6</th>\n",
       "      <td>107</td>\n",
       "      <td><img src=\"data:image/png;base64,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\"/></td>\n",
       "      <td>dog</td>\n",
       "      <td>[0.0, 0.0, 0.22067785263061523, 0.0, 0.0, 0.0, 8.580527305603027, 0.09183317422866821, 0.0, 0.0, 0.0, 0.0, 1.363704800605774, 0.8435705304145813, 0.0, 0.5015838146209717, 0.0, 0.3874608874320984, 0.3829205632209778, 0.07099157571792603, 0.0, 0.2587915062904358, 0.0, 0.0, 0.0, 0.0, 0.0, 0.0, 0.0, 0.0, 0.0, 0.0, 0.0, 0.0, 0.4331088662147522, 0.0, 0.0, 0.43157899379730225, 1.5604158639907837, 0.07664775848388672, 0.0, 0.0, 3.5890133380889893, 1.1070219278335571, 0.0, 0.0, 0.0, 0.0, 1.1010090112686157, 0.0, 0.0, 0.0, 0.0, 0.0, 0.0, 0.0, 0.0, 0.0, 0.0, 0.10761129856109619, 0.0, 0.0, 0.0, 0.0, 0.16980332136154175, 0.0, 1.9193508625030518, 0.0, 0.0, 0.0, 0.0, 0.0, 1.9566270112991333, 0.0, 0.0, 0.0, 0.0, 0.0, 0.0, 1.1618088483810425, 0.0, 0.0, 0.42608344554901123, 0.0, 0.0, 0.0, 0.0, 0.0, 0.0, 0.0, 0.0, 3.415066957473755, 1.7530295848846436, 1.2925704717636108, 0.0, 0.0, 0.0, 0.0, 0.0, 0.0, ...]</td>\n",
       "      <td>[97.0, 51.0, 31.0, 104.0, 58.0, 38.0, 107.0, 61.0, 40.0, 107.0, 62.0, 41.0, 111.0, 65.0, 44.0, 116.0, 69.0, 46.0, 119.0, 72.0, 48.0, 118.0, 71.0, 47.0, 121.0, 74.0, 50.0, 127.0, 79.0, 55.0, 129.0, 83.0, 60.0, 125.0, 87.0, 69.0, 116.0, 79.0, 60.0, 118.0, 78.0, 58.0, 133.0, 91.0, 69.0, 139.0, 94.0, 71.0, 144.0, 98.0, 75.0, 146.0, 103.0, 83.0, 133.0, 94.0, 73.0, 112.0, 75.0, 55.0, 131.0, 92.0, 74.0, 148.0, 103.0, 87.0, 156.0, 108.0, 92.0, 156.0, 110.0, 89.0, 151.0, 105.0, 83.0, 150.0, 104.0, 81.0, 152.0, 106.0, 83.0, 152.0, 107.0, 84.0, 144.0, 98.0, 75.0, 141.0, 95.0, 71.0, 141.0, 95.0, 71.0, 139.0, 93.0, 69.0, 87.0, 42.0, 24.0, 92.0, ...]</td>\n",
       "    </tr>\n",
       "    <tr>\n",
       "      <th>7</th>\n",
       "      <td>121</td>\n",
       "      <td><img src=\"data:image/png;base64,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\"/></td>\n",
       "      <td>bird</td>\n",
       "      <td>[0.0, 0.23753464221954346, 0.0, 0.0, 0.0, 0.0, 9.990801811218262, 0.0, 0.0, 0.0, 0.0, 0.0, 1.5858685970306396, 0.0, 0.0, 2.6107707023620605, 0.5844192504882812, 0.0, 0.0, 0.0, 0.0, 0.4551700949668884, 0.0, 0.0, 0.0, 0.0, 0.0, 0.5195674896240234, 0.0, 0.0, 0.0, 0.9458329081535339, 0.37974798679351807, 0.0, 0.0, 2.19115948677063, 0.0, 0.0, 0.05539810657501221, 1.2202950716018677, 0.09976905584335327, 0.0, 0.0, 0.12514764070510864, 0.0, 0.0, 0.0, 0.0, 0.0, 0.0, 0.0, 0.0, 0.0, 0.0, 0.0, 0.0, 0.0, 0.0, 0.0, 0.0, 0.7138196229934692, 0.0, 0.0, 0.016019701957702637, 0.0, 0.0, 0.0, 0.0, 0.0, 0.0, 0.0, 0.0, 2.210998058319092, 0.0, 0.0, 2.8723044395446777, 0.0, 0.0, 0.0, 0.7139868140220642, 0.0, 0.0, 0.8803340196609497, 0.0, 0.0, 0.0, 0.0, 0.0, 0.0, 0.0, 0.43936073780059814, 2.369002103805542, 1.1625560522079468, 0.0, 0.0, 0.0, 0.0, 0.0, 0.0, 0.0, ...]</td>\n",
       "      <td>[93.0, 96.0, 88.0, 102.0, 106.0, 97.0, 117.0, 121.0, 111.0, 118.0, 122.0, 110.0, 114.0, 121.0, 108.0, 113.0, 122.0, 109.0, 117.0, 125.0, 110.0, 133.0, 138.0, 121.0, 131.0, 133.0, 114.0, 134.0, 135.0, 114.0, 140.0, 142.0, 123.0, 132.0, 134.0, 123.0, 126.0, 129.0, 113.0, 128.0, 131.0, 107.0, 130.0, 130.0, 115.0, 162.0, 155.0, 144.0, 156.0, 147.0, 131.0, 139.0, 134.0, 117.0, 146.0, 143.0, 125.0, 142.0, 140.0, 121.0, 135.0, 134.0, 114.0, 136.0, 135.0, 118.0, 139.0, 138.0, 122.0, 143.0, 142.0, 126.0, 148.0, 147.0, 131.0, 146.0, 144.0, 128.0, 148.0, 144.0, 124.0, 152.0, 145.0, 123.0, 147.0, 140.0, 119.0, 147.0, 140.0, 120.0, 150.0, 143.0, 123.0, 144.0, 138.0, 117.0, 127.0, 123.0, 102.0, 139.0, ...]</td>\n",
       "    </tr>\n",
       "    <tr>\n",
       "      <th>8</th>\n",
       "      <td>136</td>\n",
       "      <td><img src=\"data:image/png;base64,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\"/></td>\n",
       "      <td>automobile</td>\n",
       "      <td>[0.0, 0.0, 0.0, 0.0, 0.0, 0.0, 7.57378625869751, 0.0, 0.0, 0.0, 0.0, 0.0, 0.0, 0.0, 0.0, 1.4727935791015625, 3.1432433128356934, 0.0, 0.0, 1.446069598197937, 0.0, 0.6140477657318115, 0.8344007730484009, 0.0, 0.0, 0.0, 0.0, 0.0, 0.0, 0.0, 0.0, 0.8630750179290771, 0.0, 0.0, 0.0, 0.0, 0.0, 0.0, 0.0, 0.8941497206687927, 0.0, 0.0, 0.5817651748657227, 0.0, 0.0, 0.0, 0.0, 0.0, 1.9563744068145752, 0.0, 0.0, 2.9371776580810547, 0.0, 0.0, 0.0, 0.1439571976661682, 0.0, 0.0, 0.0, 0.0, 0.0, 0.0, 0.0, 0.1591334342956543, 0.09369146823883057, 0.0, 3.748291254043579, 0.0, 0.0, 0.0, 0.0, 0.0, 1.1665441989898682, 0.0, 0.0, 4.593391418457031, 0.0, 0.0, 0.0, 0.0, 0.0, 0.0, 0.0, 1.641324758529663, 0.016786575317382812, 0.0, 0.0, 0.0, 0.0, 0.0, 0.0, 0.0, 0.8513365983963013, 0.0, 0.0, 0.0, 0.0, 0.0, 0.0, 0.0, ...]</td>\n",
       "      <td>[35.0, 59.0, 53.0, 36.0, 56.0, 56.0, 42.0, 62.0, 64.0, 40.0, 59.0, 63.0, 43.0, 60.0, 65.0, 79.0, 103.0, 89.0, 77.0, 104.0, 74.0, 67.0, 88.0, 65.0, 70.0, 93.0, 73.0, 61.0, 82.0, 69.0, 60.0, 80.0, 70.0, 56.0, 74.0, 74.0, 52.0, 69.0, 73.0, 46.0, 67.0, 63.0, 56.0, 77.0, 64.0, 55.0, 75.0, 63.0, 48.0, 68.0, 57.0, 41.0, 61.0, 57.0, 109.0, 132.0, 137.0, 115.0, 140.0, 140.0, 75.0, 101.0, 93.0, 78.0, 102.0, 94.0, 82.0, 103.0, 100.0, 104.0, 126.0, 133.0, 98.0, 125.0, 121.0, 89.0, 116.0, 103.0, 73.0, 99.0, 86.0, 75.0, 98.0, 101.0, 80.0, 100.0, 111.0, 101.0, 131.0, 143.0, 148.0, 186.0, 196.0, 145.0, 179.0, 185.0, 36.0, 59.0, 52.0, 31.0, ...]</td>\n",
       "    </tr>\n",
       "    <tr>\n",
       "      <th>9</th>\n",
       "      <td>138</td>\n",
       "      <td><img src=\"data:image/png;base64,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\"/></td>\n",
       "      <td>bird</td>\n",
       "      <td>[0.6589357256889343, 0.0, 0.0, 0.0, 0.0, 0.0, 9.93747615814209, 0.0, 0.0, 0.0, 0.0, 0.0, 0.2444322109222412, 0.0, 0.0, 0.0, 1.046040415763855, 0.6257576942443848, 0.0, 0.7903839945793152, 0.0, 1.6160600185394287, 0.0, 0.881405770778656, 0.0, 2.2982025146484375, 0.0, 0.4153915047645569, 0.0, 0.10262197256088257, 0.0, 0.0, 0.0, 0.0, 0.0, 0.0, 0.0, 0.0, 0.4178539514541626, 0.517123281955719, 0.0, 0.0, 0.0, 0.4509105682373047, 0.0, 0.44746536016464233, 0.0, 0.0, 0.24819999933242798, 0.0, 0.0, 0.0, 0.0, 0.0, 0.0, 0.0, 0.0, 0.0, 0.0, 0.0, 0.0, 0.0, 0.0, 0.0, 0.0, 0.0, 2.2683770656585693, 0.0, 0.0, 0.0, 0.5002470016479492, 0.0, 0.5656090974807739, 0.0, 0.0, 1.4717872142791748, 0.0, 0.0, 0.0, 0.9324825406074524, 0.0, 0.0, 0.0, 0.0, 0.6311169266700745, 0.0, 0.0, 0.0, 0.0, 0.0, 0.9156002998352051, 2.6449315547943115, 0.0, 0.0, 0.0, 0.0, 0.0, 0.0, 0.0, 0.0, ...]</td>\n",
       "      <td>[205.0, 193.0, 195.0, 200.0, 187.0, 193.0, 202.0, 190.0, 193.0, 173.0, 162.0, 159.0, 131.0, 121.0, 113.0, 130.0, 119.0, 113.0, 169.0, 158.0, 152.0, 220.0, 209.0, 203.0, 229.0, 218.0, 213.0, 221.0, 210.0, 204.0, 194.0, 183.0, 177.0, 209.0, 199.0, 193.0, 200.0, 189.0, 183.0, 185.0, 172.0, 166.0, 174.0, 158.0, 153.0, 191.0, 172.0, 168.0, 197.0, 177.0, 173.0, 201.0, 183.0, 176.0, 202.0, 185.0, 177.0, 198.0, 181.0, 171.0, 206.0, 190.0, 178.0, 200.0, 184.0, 171.0, 205.0, 189.0, 176.0, 204.0, 190.0, 178.0, 193.0, 179.0, 167.0, 197.0, 183.0, 170.0, 220.0, 206.0, 193.0, 230.0, 217.0, 203.0, 234.0, 221.0, 207.0, 239.0, 226.0, 207.0, 222.0, 209.0, 192.0, 208.0, 194.0, 179.0, 135.0, 123.0, 124.0, 144.0, ...]</td>\n",
       "    </tr>\n",
       "  </tbody>\n",
       "</table>                          </body>                                                          </html>"
      ],
      "text/plain": [
       "<IPython.core.display.HTML object>"
      ]
     },
     "metadata": {},
     "output_type": "display_data"
    }
   ],
   "source": [
    "import turicreate as tc\n",
    "image_train = tc.SFrame('image_train_data')\n",
    "image_train.head().explore()"
   ]
  },
  {
   "cell_type": "markdown",
   "metadata": {},
   "source": [
    "## training nearest neighbour model to retrive images"
   ]
  },
  {
   "cell_type": "code",
   "execution_count": 3,
   "metadata": {},
   "outputs": [
    {
     "data": {
      "text/html": [
       "<pre>Starting brute force nearest neighbors model training.</pre>"
      ],
      "text/plain": [
       "Starting brute force nearest neighbors model training."
      ]
     },
     "metadata": {},
     "output_type": "display_data"
    },
    {
     "data": {
      "text/html": [
       "<pre>Validating distance components.</pre>"
      ],
      "text/plain": [
       "Validating distance components."
      ]
     },
     "metadata": {},
     "output_type": "display_data"
    },
    {
     "data": {
      "text/html": [
       "<pre>Initializing model data.</pre>"
      ],
      "text/plain": [
       "Initializing model data."
      ]
     },
     "metadata": {},
     "output_type": "display_data"
    },
    {
     "data": {
      "text/html": [
       "<pre>Initializing distances.</pre>"
      ],
      "text/plain": [
       "Initializing distances."
      ]
     },
     "metadata": {},
     "output_type": "display_data"
    },
    {
     "data": {
      "text/html": [
       "<pre>Done.</pre>"
      ],
      "text/plain": [
       "Done."
      ]
     },
     "metadata": {},
     "output_type": "display_data"
    }
   ],
   "source": [
    "knn_model = tc.nearest_neighbors.create(image_train,features=['deep_features'],label='id')"
   ]
  },
  {
   "cell_type": "markdown",
   "metadata": {},
   "source": [
    "## Use image retrival model"
   ]
  },
  {
   "cell_type": "code",
   "execution_count": 14,
   "metadata": {},
   "outputs": [],
   "source": [
    "cat = image_train[18:19]"
   ]
  },
  {
   "cell_type": "code",
   "execution_count": 15,
   "metadata": {},
   "outputs": [
    {
     "data": {
      "text/html": [
       "<html lang=\"en\">                                                     <head>                                                               <style>                                                              .sframe {                                                            font-size: 12px;                                                   font-family: HelveticaNeue;                                        border: 1px solid silver;                                        }                                                                  .sframe thead th {                                                   background: #F7F7F7;                                               font-family: HelveticaNeue-Medium;                                 font-size: 14px;                                                   line-height: 16.8px;                                               padding-top: 16px;                                                 padding-bottom: 16px;                                              padding-left: 10px;                                                padding-right: 38px;                                               border-top: 1px solid #E9E9E9;                                     border-bottom: 1px solid #E9E9E9;                                  white-space: nowrap;                                               overflow: hidden;                                                  text-overflow:ellipsis;                                            text-align:center;                                                 font-weight:normal;                                              }                                                                  .sframe tbody th {                                                   background: #FFFFFF;                                               text-align:left;                                                   font-weight:normal;                                                border-right: 1px solid #E9E9E9;                                 }                                                                  .sframe td {                                                         background: #FFFFFF;                                               padding-left: 10px;                                                padding-right: 38px;                                               padding-top: 14px;                                                 padding-bottom: 14px;                                              border-bottom: 1px solid #E9E9E9;                                  max-height: 0px;                                                   transition: max-height 5s ease-out;                                vertical-align: middle;                                            font-family: HelveticaNeue;                                        font-size: 12px;                                                   line-height: 16.8px;                                               background: #FFFFFF;                                             }                                                                  .sframe tr {                                                         padding-left: 10px;                                                padding-right: 38px;                                               padding-top: 14px;                                                 padding-bottom: 14px;                                              border-bottom: 1px solid #E9E9E9;                                  max-height: 0px;                                                   transition: max-height 5s ease-out;                                vertical-align: middle;                                            font-family: HelveticaNeue;                                        font-size: 12px;                                                   line-height: 16.8px;                                               background: #FFFFFF;                                             }                                                                  .sframe tr:hover {                                                   background: silver;                                              },                                                               </style>                                                         </head>                                                            <body>                                                               <h1>  </h1>                                             <table border=\"1\" class=\"dataframe sframe\">\n",
       "  <thead>\n",
       "    <tr style=\"text-align: right;\">\n",
       "      <th></th>\n",
       "      <th>SArray</th>\n",
       "    </tr>\n",
       "  </thead>\n",
       "  <tbody>\n",
       "    <tr>\n",
       "      <th>0</th>\n",
       "      <td><img src=\"data:image/png;base64,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\"/></td>\n",
       "    </tr>\n",
       "  </tbody>\n",
       "</table>                          </body>                                                          </html>"
      ],
      "text/plain": [
       "<IPython.core.display.HTML object>"
      ]
     },
     "metadata": {},
     "output_type": "display_data"
    }
   ],
   "source": [
    "cat['image'].explore()"
   ]
  },
  {
   "cell_type": "code",
   "execution_count": 16,
   "metadata": {},
   "outputs": [
    {
     "data": {
      "text/html": [
       "<pre>Starting pairwise querying.</pre>"
      ],
      "text/plain": [
       "Starting pairwise querying."
      ]
     },
     "metadata": {},
     "output_type": "display_data"
    },
    {
     "data": {
      "text/html": [
       "<pre>+--------------+---------+-------------+--------------+</pre>"
      ],
      "text/plain": [
       "+--------------+---------+-------------+--------------+"
      ]
     },
     "metadata": {},
     "output_type": "display_data"
    },
    {
     "data": {
      "text/html": [
       "<pre>| Query points | # Pairs | % Complete. | Elapsed Time |</pre>"
      ],
      "text/plain": [
       "| Query points | # Pairs | % Complete. | Elapsed Time |"
      ]
     },
     "metadata": {},
     "output_type": "display_data"
    },
    {
     "data": {
      "text/html": [
       "<pre>+--------------+---------+-------------+--------------+</pre>"
      ],
      "text/plain": [
       "+--------------+---------+-------------+--------------+"
      ]
     },
     "metadata": {},
     "output_type": "display_data"
    },
    {
     "data": {
      "text/html": [
       "<pre>| 0            | 1       | 0.0498753   | 14.612ms     |</pre>"
      ],
      "text/plain": [
       "| 0            | 1       | 0.0498753   | 14.612ms     |"
      ]
     },
     "metadata": {},
     "output_type": "display_data"
    },
    {
     "data": {
      "text/html": [
       "<pre>| Done         |         | 100         | 93.135ms     |</pre>"
      ],
      "text/plain": [
       "| Done         |         | 100         | 93.135ms     |"
      ]
     },
     "metadata": {},
     "output_type": "display_data"
    },
    {
     "data": {
      "text/html": [
       "<pre>+--------------+---------+-------------+--------------+</pre>"
      ],
      "text/plain": [
       "+--------------+---------+-------------+--------------+"
      ]
     },
     "metadata": {},
     "output_type": "display_data"
    },
    {
     "data": {
      "text/html": [
       "<div style=\"max-height:1000px;max-width:1500px;overflow:auto;\"><table frame=\"box\" rules=\"cols\">\n",
       "    <tr>\n",
       "        <th style=\"padding-left: 1em; padding-right: 1em; text-align: center\">query_label</th>\n",
       "        <th style=\"padding-left: 1em; padding-right: 1em; text-align: center\">reference_label</th>\n",
       "        <th style=\"padding-left: 1em; padding-right: 1em; text-align: center\">distance</th>\n",
       "        <th style=\"padding-left: 1em; padding-right: 1em; text-align: center\">rank</th>\n",
       "    </tr>\n",
       "    <tr>\n",
       "        <td style=\"padding-left: 1em; padding-right: 1em; text-align: center; vertical-align: top\">0</td>\n",
       "        <td style=\"padding-left: 1em; padding-right: 1em; text-align: center; vertical-align: top\">384</td>\n",
       "        <td style=\"padding-left: 1em; padding-right: 1em; text-align: center; vertical-align: top\">0.0</td>\n",
       "        <td style=\"padding-left: 1em; padding-right: 1em; text-align: center; vertical-align: top\">1</td>\n",
       "    </tr>\n",
       "    <tr>\n",
       "        <td style=\"padding-left: 1em; padding-right: 1em; text-align: center; vertical-align: top\">0</td>\n",
       "        <td style=\"padding-left: 1em; padding-right: 1em; text-align: center; vertical-align: top\">6910</td>\n",
       "        <td style=\"padding-left: 1em; padding-right: 1em; text-align: center; vertical-align: top\">36.94031379506751</td>\n",
       "        <td style=\"padding-left: 1em; padding-right: 1em; text-align: center; vertical-align: top\">2</td>\n",
       "    </tr>\n",
       "    <tr>\n",
       "        <td style=\"padding-left: 1em; padding-right: 1em; text-align: center; vertical-align: top\">0</td>\n",
       "        <td style=\"padding-left: 1em; padding-right: 1em; text-align: center; vertical-align: top\">39777</td>\n",
       "        <td style=\"padding-left: 1em; padding-right: 1em; text-align: center; vertical-align: top\">38.46348889747021</td>\n",
       "        <td style=\"padding-left: 1em; padding-right: 1em; text-align: center; vertical-align: top\">3</td>\n",
       "    </tr>\n",
       "    <tr>\n",
       "        <td style=\"padding-left: 1em; padding-right: 1em; text-align: center; vertical-align: top\">0</td>\n",
       "        <td style=\"padding-left: 1em; padding-right: 1em; text-align: center; vertical-align: top\">36870</td>\n",
       "        <td style=\"padding-left: 1em; padding-right: 1em; text-align: center; vertical-align: top\">39.75596231189652</td>\n",
       "        <td style=\"padding-left: 1em; padding-right: 1em; text-align: center; vertical-align: top\">4</td>\n",
       "    </tr>\n",
       "    <tr>\n",
       "        <td style=\"padding-left: 1em; padding-right: 1em; text-align: center; vertical-align: top\">0</td>\n",
       "        <td style=\"padding-left: 1em; padding-right: 1em; text-align: center; vertical-align: top\">41734</td>\n",
       "        <td style=\"padding-left: 1em; padding-right: 1em; text-align: center; vertical-align: top\">39.786601414815024</td>\n",
       "        <td style=\"padding-left: 1em; padding-right: 1em; text-align: center; vertical-align: top\">5</td>\n",
       "    </tr>\n",
       "</table>\n",
       "[5 rows x 4 columns]<br/>\n",
       "</div>"
      ],
      "text/plain": [
       "Columns:\n",
       "\tquery_label\tint\n",
       "\treference_label\tint\n",
       "\tdistance\tfloat\n",
       "\trank\tint\n",
       "\n",
       "Rows: 5\n",
       "\n",
       "Data:\n",
       "+-------------+-----------------+--------------------+------+\n",
       "| query_label | reference_label |      distance      | rank |\n",
       "+-------------+-----------------+--------------------+------+\n",
       "|      0      |       384       |        0.0         |  1   |\n",
       "|      0      |       6910      | 36.94031379506751  |  2   |\n",
       "|      0      |      39777      | 38.46348889747021  |  3   |\n",
       "|      0      |      36870      | 39.75596231189652  |  4   |\n",
       "|      0      |      41734      | 39.786601414815024 |  5   |\n",
       "+-------------+-----------------+--------------------+------+\n",
       "[5 rows x 4 columns]"
      ]
     },
     "execution_count": 16,
     "metadata": {},
     "output_type": "execute_result"
    }
   ],
   "source": [
    "knn_model.query(cat)"
   ]
  },
  {
   "cell_type": "code",
   "execution_count": 39,
   "metadata": {},
   "outputs": [],
   "source": [
    "def get_images(qr):\n",
    "    return image_train.filter_by(qr['reference_label'],'id')"
   ]
  },
  {
   "cell_type": "code",
   "execution_count": 40,
   "metadata": {},
   "outputs": [
    {
     "data": {
      "text/html": [
       "<pre>Starting pairwise querying.</pre>"
      ],
      "text/plain": [
       "Starting pairwise querying."
      ]
     },
     "metadata": {},
     "output_type": "display_data"
    },
    {
     "data": {
      "text/html": [
       "<pre>+--------------+---------+-------------+--------------+</pre>"
      ],
      "text/plain": [
       "+--------------+---------+-------------+--------------+"
      ]
     },
     "metadata": {},
     "output_type": "display_data"
    },
    {
     "data": {
      "text/html": [
       "<pre>| Query points | # Pairs | % Complete. | Elapsed Time |</pre>"
      ],
      "text/plain": [
       "| Query points | # Pairs | % Complete. | Elapsed Time |"
      ]
     },
     "metadata": {},
     "output_type": "display_data"
    },
    {
     "data": {
      "text/html": [
       "<pre>+--------------+---------+-------------+--------------+</pre>"
      ],
      "text/plain": [
       "+--------------+---------+-------------+--------------+"
      ]
     },
     "metadata": {},
     "output_type": "display_data"
    },
    {
     "data": {
      "text/html": [
       "<pre>| 0            | 1       | 0.0498753   | 15.104ms     |</pre>"
      ],
      "text/plain": [
       "| 0            | 1       | 0.0498753   | 15.104ms     |"
      ]
     },
     "metadata": {},
     "output_type": "display_data"
    },
    {
     "data": {
      "text/html": [
       "<pre>| Done         |         | 100         | 92.078ms     |</pre>"
      ],
      "text/plain": [
       "| Done         |         | 100         | 92.078ms     |"
      ]
     },
     "metadata": {},
     "output_type": "display_data"
    },
    {
     "data": {
      "text/html": [
       "<pre>+--------------+---------+-------------+--------------+</pre>"
      ],
      "text/plain": [
       "+--------------+---------+-------------+--------------+"
      ]
     },
     "metadata": {},
     "output_type": "display_data"
    }
   ],
   "source": [
    "cat_neighbours = get_images(knn_model.query(cat))"
   ]
  },
  {
   "cell_type": "code",
   "execution_count": 43,
   "metadata": {},
   "outputs": [
    {
     "data": {
      "text/html": [
       "<html lang=\"en\">                                                     <head>                                                               <style>                                                              .sframe {                                                            font-size: 12px;                                                   font-family: HelveticaNeue;                                        border: 1px solid silver;                                        }                                                                  .sframe thead th {                                                   background: #F7F7F7;                                               font-family: HelveticaNeue-Medium;                                 font-size: 14px;                                                   line-height: 16.8px;                                               padding-top: 16px;                                                 padding-bottom: 16px;                                              padding-left: 10px;                                                padding-right: 38px;                                               border-top: 1px solid #E9E9E9;                                     border-bottom: 1px solid #E9E9E9;                                  white-space: nowrap;                                               overflow: hidden;                                                  text-overflow:ellipsis;                                            text-align:center;                                                 font-weight:normal;                                              }                                                                  .sframe tbody th {                                                   background: #FFFFFF;                                               text-align:left;                                                   font-weight:normal;                                                border-right: 1px solid #E9E9E9;                                 }                                                                  .sframe td {                                                         background: #FFFFFF;                                               padding-left: 10px;                                                padding-right: 38px;                                               padding-top: 14px;                                                 padding-bottom: 14px;                                              border-bottom: 1px solid #E9E9E9;                                  max-height: 0px;                                                   transition: max-height 5s ease-out;                                vertical-align: middle;                                            font-family: HelveticaNeue;                                        font-size: 12px;                                                   line-height: 16.8px;                                               background: #FFFFFF;                                             }                                                                  .sframe tr {                                                         padding-left: 10px;                                                padding-right: 38px;                                               padding-top: 14px;                                                 padding-bottom: 14px;                                              border-bottom: 1px solid #E9E9E9;                                  max-height: 0px;                                                   transition: max-height 5s ease-out;                                vertical-align: middle;                                            font-family: HelveticaNeue;                                        font-size: 12px;                                                   line-height: 16.8px;                                               background: #FFFFFF;                                             }                                                                  .sframe tr:hover {                                                   background: silver;                                              },                                                               </style>                                                         </head>                                                            <body>                                                               <h1>  </h1>                                             <table border=\"1\" class=\"dataframe sframe\">\n",
       "  <thead>\n",
       "    <tr style=\"text-align: right;\">\n",
       "      <th></th>\n",
       "      <th>SArray</th>\n",
       "    </tr>\n",
       "  </thead>\n",
       "  <tbody>\n",
       "    <tr>\n",
       "      <th>0</th>\n",
       "      <td><img src=\"data:image/png;base64,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\"/></td>\n",
       "    </tr>\n",
       "    <tr>\n",
       "      <th>1</th>\n",
       "      <td><img src=\"data:image/png;base64,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\"/></td>\n",
       "    </tr>\n",
       "    <tr>\n",
       "      <th>2</th>\n",
       "      <td><img src=\"data:image/png;base64,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\"/></td>\n",
       "    </tr>\n",
       "    <tr>\n",
       "      <th>3</th>\n",
       "      <td><img src=\"data:image/png;base64,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\"/></td>\n",
       "    </tr>\n",
       "    <tr>\n",
       "      <th>4</th>\n",
       "      <td><img src=\"data:image/png;base64,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\"/></td>\n",
       "    </tr>\n",
       "  </tbody>\n",
       "</table>                          </body>                                                          </html>"
      ],
      "text/plain": [
       "<IPython.core.display.HTML object>"
      ]
     },
     "metadata": {},
     "output_type": "display_data"
    }
   ],
   "source": [
    "cat_neighbours['image'].explore()"
   ]
  },
  {
   "cell_type": "code",
   "execution_count": 44,
   "metadata": {},
   "outputs": [
    {
     "data": {
      "text/html": [
       "<html lang=\"en\">                                                     <head>                                                               <style>                                                              .sframe {                                                            font-size: 12px;                                                   font-family: HelveticaNeue;                                        border: 1px solid silver;                                        }                                                                  .sframe thead th {                                                   background: #F7F7F7;                                               font-family: HelveticaNeue-Medium;                                 font-size: 14px;                                                   line-height: 16.8px;                                               padding-top: 16px;                                                 padding-bottom: 16px;                                              padding-left: 10px;                                                padding-right: 38px;                                               border-top: 1px solid #E9E9E9;                                     border-bottom: 1px solid #E9E9E9;                                  white-space: nowrap;                                               overflow: hidden;                                                  text-overflow:ellipsis;                                            text-align:center;                                                 font-weight:normal;                                              }                                                                  .sframe tbody th {                                                   background: #FFFFFF;                                               text-align:left;                                                   font-weight:normal;                                                border-right: 1px solid #E9E9E9;                                 }                                                                  .sframe td {                                                         background: #FFFFFF;                                               padding-left: 10px;                                                padding-right: 38px;                                               padding-top: 14px;                                                 padding-bottom: 14px;                                              border-bottom: 1px solid #E9E9E9;                                  max-height: 0px;                                                   transition: max-height 5s ease-out;                                vertical-align: middle;                                            font-family: HelveticaNeue;                                        font-size: 12px;                                                   line-height: 16.8px;                                               background: #FFFFFF;                                             }                                                                  .sframe tr {                                                         padding-left: 10px;                                                padding-right: 38px;                                               padding-top: 14px;                                                 padding-bottom: 14px;                                              border-bottom: 1px solid #E9E9E9;                                  max-height: 0px;                                                   transition: max-height 5s ease-out;                                vertical-align: middle;                                            font-family: HelveticaNeue;                                        font-size: 12px;                                                   line-height: 16.8px;                                               background: #FFFFFF;                                             }                                                                  .sframe tr:hover {                                                   background: silver;                                              },                                                               </style>                                                         </head>                                                            <body>                                                               <h1>  </h1>                                             <table border=\"1\" class=\"dataframe sframe\">\n",
       "  <thead>\n",
       "    <tr style=\"text-align: right;\">\n",
       "      <th></th>\n",
       "      <th>SArray</th>\n",
       "    </tr>\n",
       "  </thead>\n",
       "  <tbody>\n",
       "    <tr>\n",
       "      <th>0</th>\n",
       "      <td><img src=\"data:image/png;base64,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\"/></td>\n",
       "    </tr>\n",
       "  </tbody>\n",
       "</table>                          </body>                                                          </html>"
      ],
      "text/plain": [
       "<IPython.core.display.HTML object>"
      ]
     },
     "metadata": {},
     "output_type": "display_data"
    }
   ],
   "source": [
    "car = image_train[8:9]\n",
    "car['image'].explore()"
   ]
  },
  {
   "cell_type": "code",
   "execution_count": 45,
   "metadata": {},
   "outputs": [
    {
     "data": {
      "text/html": [
       "<pre>Starting pairwise querying.</pre>"
      ],
      "text/plain": [
       "Starting pairwise querying."
      ]
     },
     "metadata": {},
     "output_type": "display_data"
    },
    {
     "data": {
      "text/html": [
       "<pre>+--------------+---------+-------------+--------------+</pre>"
      ],
      "text/plain": [
       "+--------------+---------+-------------+--------------+"
      ]
     },
     "metadata": {},
     "output_type": "display_data"
    },
    {
     "data": {
      "text/html": [
       "<pre>| Query points | # Pairs | % Complete. | Elapsed Time |</pre>"
      ],
      "text/plain": [
       "| Query points | # Pairs | % Complete. | Elapsed Time |"
      ]
     },
     "metadata": {},
     "output_type": "display_data"
    },
    {
     "data": {
      "text/html": [
       "<pre>+--------------+---------+-------------+--------------+</pre>"
      ],
      "text/plain": [
       "+--------------+---------+-------------+--------------+"
      ]
     },
     "metadata": {},
     "output_type": "display_data"
    },
    {
     "data": {
      "text/html": [
       "<pre>| 0            | 1       | 0.0498753   | 17.169ms     |</pre>"
      ],
      "text/plain": [
       "| 0            | 1       | 0.0498753   | 17.169ms     |"
      ]
     },
     "metadata": {},
     "output_type": "display_data"
    },
    {
     "data": {
      "text/html": [
       "<pre>| Done         |         | 100         | 104.649ms    |</pre>"
      ],
      "text/plain": [
       "| Done         |         | 100         | 104.649ms    |"
      ]
     },
     "metadata": {},
     "output_type": "display_data"
    },
    {
     "data": {
      "text/html": [
       "<pre>+--------------+---------+-------------+--------------+</pre>"
      ],
      "text/plain": [
       "+--------------+---------+-------------+--------------+"
      ]
     },
     "metadata": {},
     "output_type": "display_data"
    },
    {
     "data": {
      "text/html": [
       "<html lang=\"en\">                                                     <head>                                                               <style>                                                              .sframe {                                                            font-size: 12px;                                                   font-family: HelveticaNeue;                                        border: 1px solid silver;                                        }                                                                  .sframe thead th {                                                   background: #F7F7F7;                                               font-family: HelveticaNeue-Medium;                                 font-size: 14px;                                                   line-height: 16.8px;                                               padding-top: 16px;                                                 padding-bottom: 16px;                                              padding-left: 10px;                                                padding-right: 38px;                                               border-top: 1px solid #E9E9E9;                                     border-bottom: 1px solid #E9E9E9;                                  white-space: nowrap;                                               overflow: hidden;                                                  text-overflow:ellipsis;                                            text-align:center;                                                 font-weight:normal;                                              }                                                                  .sframe tbody th {                                                   background: #FFFFFF;                                               text-align:left;                                                   font-weight:normal;                                                border-right: 1px solid #E9E9E9;                                 }                                                                  .sframe td {                                                         background: #FFFFFF;                                               padding-left: 10px;                                                padding-right: 38px;                                               padding-top: 14px;                                                 padding-bottom: 14px;                                              border-bottom: 1px solid #E9E9E9;                                  max-height: 0px;                                                   transition: max-height 5s ease-out;                                vertical-align: middle;                                            font-family: HelveticaNeue;                                        font-size: 12px;                                                   line-height: 16.8px;                                               background: #FFFFFF;                                             }                                                                  .sframe tr {                                                         padding-left: 10px;                                                padding-right: 38px;                                               padding-top: 14px;                                                 padding-bottom: 14px;                                              border-bottom: 1px solid #E9E9E9;                                  max-height: 0px;                                                   transition: max-height 5s ease-out;                                vertical-align: middle;                                            font-family: HelveticaNeue;                                        font-size: 12px;                                                   line-height: 16.8px;                                               background: #FFFFFF;                                             }                                                                  .sframe tr:hover {                                                   background: silver;                                              },                                                               </style>                                                         </head>                                                            <body>                                                               <h1>  </h1>                                             <table border=\"1\" class=\"dataframe sframe\">\n",
       "  <thead>\n",
       "    <tr style=\"text-align: right;\">\n",
       "      <th></th>\n",
       "      <th>SArray</th>\n",
       "    </tr>\n",
       "  </thead>\n",
       "  <tbody>\n",
       "    <tr>\n",
       "      <th>0</th>\n",
       "      <td><img src=\"data:image/png;base64,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\"/></td>\n",
       "    </tr>\n",
       "    <tr>\n",
       "      <th>1</th>\n",
       "      <td><img src=\"data:image/png;base64,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\"/></td>\n",
       "    </tr>\n",
       "    <tr>\n",
       "      <th>2</th>\n",
       "      <td><img src=\"data:image/png;base64,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\"/></td>\n",
       "    </tr>\n",
       "    <tr>\n",
       "      <th>3</th>\n",
       "      <td><img src=\"data:image/png;base64,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\"/></td>\n",
       "    </tr>\n",
       "    <tr>\n",
       "      <th>4</th>\n",
       "      <td><img src=\"data:image/png;base64,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\"/></td>\n",
       "    </tr>\n",
       "  </tbody>\n",
       "</table>                          </body>                                                          </html>"
      ],
      "text/plain": [
       "<IPython.core.display.HTML object>"
      ]
     },
     "metadata": {},
     "output_type": "display_data"
    }
   ],
   "source": [
    "get_images(knn_model.query(car))['image'].explore()"
   ]
  },
  {
   "cell_type": "markdown",
   "metadata": {},
   "source": [
    "# Lambda function to find images"
   ]
  },
  {
   "cell_type": "code",
   "execution_count": 48,
   "metadata": {},
   "outputs": [],
   "source": [
    "show_neighbours = lambda i : get_images(knn_model.query(image_train[i:i+1]))['image'].explore()"
   ]
  },
  {
   "cell_type": "code",
   "execution_count": 49,
   "metadata": {},
   "outputs": [
    {
     "data": {
      "text/html": [
       "<pre>Starting pairwise querying.</pre>"
      ],
      "text/plain": [
       "Starting pairwise querying."
      ]
     },
     "metadata": {},
     "output_type": "display_data"
    },
    {
     "data": {
      "text/html": [
       "<pre>+--------------+---------+-------------+--------------+</pre>"
      ],
      "text/plain": [
       "+--------------+---------+-------------+--------------+"
      ]
     },
     "metadata": {},
     "output_type": "display_data"
    },
    {
     "data": {
      "text/html": [
       "<pre>| Query points | # Pairs | % Complete. | Elapsed Time |</pre>"
      ],
      "text/plain": [
       "| Query points | # Pairs | % Complete. | Elapsed Time |"
      ]
     },
     "metadata": {},
     "output_type": "display_data"
    },
    {
     "data": {
      "text/html": [
       "<pre>+--------------+---------+-------------+--------------+</pre>"
      ],
      "text/plain": [
       "+--------------+---------+-------------+--------------+"
      ]
     },
     "metadata": {},
     "output_type": "display_data"
    },
    {
     "data": {
      "text/html": [
       "<pre>| 0            | 1       | 0.0498753   | 15.462ms     |</pre>"
      ],
      "text/plain": [
       "| 0            | 1       | 0.0498753   | 15.462ms     |"
      ]
     },
     "metadata": {},
     "output_type": "display_data"
    },
    {
     "data": {
      "text/html": [
       "<pre>| Done         |         | 100         | 95.102ms     |</pre>"
      ],
      "text/plain": [
       "| Done         |         | 100         | 95.102ms     |"
      ]
     },
     "metadata": {},
     "output_type": "display_data"
    },
    {
     "data": {
      "text/html": [
       "<pre>+--------------+---------+-------------+--------------+</pre>"
      ],
      "text/plain": [
       "+--------------+---------+-------------+--------------+"
      ]
     },
     "metadata": {},
     "output_type": "display_data"
    },
    {
     "data": {
      "text/html": [
       "<html lang=\"en\">                                                     <head>                                                               <style>                                                              .sframe {                                                            font-size: 12px;                                                   font-family: HelveticaNeue;                                        border: 1px solid silver;                                        }                                                                  .sframe thead th {                                                   background: #F7F7F7;                                               font-family: HelveticaNeue-Medium;                                 font-size: 14px;                                                   line-height: 16.8px;                                               padding-top: 16px;                                                 padding-bottom: 16px;                                              padding-left: 10px;                                                padding-right: 38px;                                               border-top: 1px solid #E9E9E9;                                     border-bottom: 1px solid #E9E9E9;                                  white-space: nowrap;                                               overflow: hidden;                                                  text-overflow:ellipsis;                                            text-align:center;                                                 font-weight:normal;                                              }                                                                  .sframe tbody th {                                                   background: #FFFFFF;                                               text-align:left;                                                   font-weight:normal;                                                border-right: 1px solid #E9E9E9;                                 }                                                                  .sframe td {                                                         background: #FFFFFF;                                               padding-left: 10px;                                                padding-right: 38px;                                               padding-top: 14px;                                                 padding-bottom: 14px;                                              border-bottom: 1px solid #E9E9E9;                                  max-height: 0px;                                                   transition: max-height 5s ease-out;                                vertical-align: middle;                                            font-family: HelveticaNeue;                                        font-size: 12px;                                                   line-height: 16.8px;                                               background: #FFFFFF;                                             }                                                                  .sframe tr {                                                         padding-left: 10px;                                                padding-right: 38px;                                               padding-top: 14px;                                                 padding-bottom: 14px;                                              border-bottom: 1px solid #E9E9E9;                                  max-height: 0px;                                                   transition: max-height 5s ease-out;                                vertical-align: middle;                                            font-family: HelveticaNeue;                                        font-size: 12px;                                                   line-height: 16.8px;                                               background: #FFFFFF;                                             }                                                                  .sframe tr:hover {                                                   background: silver;                                              },                                                               </style>                                                         </head>                                                            <body>                                                               <h1>  </h1>                                             <table border=\"1\" class=\"dataframe sframe\">\n",
       "  <thead>\n",
       "    <tr style=\"text-align: right;\">\n",
       "      <th></th>\n",
       "      <th>SArray</th>\n",
       "    </tr>\n",
       "  </thead>\n",
       "  <tbody>\n",
       "    <tr>\n",
       "      <th>0</th>\n",
       "      <td><img src=\"data:image/png;base64,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\"/></td>\n",
       "    </tr>\n",
       "    <tr>\n",
       "      <th>1</th>\n",
       "      <td><img src=\"data:image/png;base64,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\"/></td>\n",
       "    </tr>\n",
       "    <tr>\n",
       "      <th>2</th>\n",
       "      <td><img src=\"data:image/png;base64,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\"/></td>\n",
       "    </tr>\n",
       "    <tr>\n",
       "      <th>3</th>\n",
       "      <td><img src=\"data:image/png;base64,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\"/></td>\n",
       "    </tr>\n",
       "    <tr>\n",
       "      <th>4</th>\n",
       "      <td><img src=\"data:image/png;base64,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\"/></td>\n",
       "    </tr>\n",
       "  </tbody>\n",
       "</table>                          </body>                                                          </html>"
      ],
      "text/plain": [
       "<IPython.core.display.HTML object>"
      ]
     },
     "metadata": {},
     "output_type": "display_data"
    }
   ],
   "source": [
    "show_neighbours(8)"
   ]
  },
  {
   "cell_type": "code",
   "execution_count": 50,
   "metadata": {},
   "outputs": [
    {
     "data": {
      "text/html": [
       "<pre>Starting pairwise querying.</pre>"
      ],
      "text/plain": [
       "Starting pairwise querying."
      ]
     },
     "metadata": {},
     "output_type": "display_data"
    },
    {
     "data": {
      "text/html": [
       "<pre>+--------------+---------+-------------+--------------+</pre>"
      ],
      "text/plain": [
       "+--------------+---------+-------------+--------------+"
      ]
     },
     "metadata": {},
     "output_type": "display_data"
    },
    {
     "data": {
      "text/html": [
       "<pre>| Query points | # Pairs | % Complete. | Elapsed Time |</pre>"
      ],
      "text/plain": [
       "| Query points | # Pairs | % Complete. | Elapsed Time |"
      ]
     },
     "metadata": {},
     "output_type": "display_data"
    },
    {
     "data": {
      "text/html": [
       "<pre>+--------------+---------+-------------+--------------+</pre>"
      ],
      "text/plain": [
       "+--------------+---------+-------------+--------------+"
      ]
     },
     "metadata": {},
     "output_type": "display_data"
    },
    {
     "data": {
      "text/html": [
       "<pre>| 0            | 1       | 0.0498753   | 12.995ms     |</pre>"
      ],
      "text/plain": [
       "| 0            | 1       | 0.0498753   | 12.995ms     |"
      ]
     },
     "metadata": {},
     "output_type": "display_data"
    },
    {
     "data": {
      "text/html": [
       "<pre>| Done         |         | 100         | 76.346ms     |</pre>"
      ],
      "text/plain": [
       "| Done         |         | 100         | 76.346ms     |"
      ]
     },
     "metadata": {},
     "output_type": "display_data"
    },
    {
     "data": {
      "text/html": [
       "<pre>+--------------+---------+-------------+--------------+</pre>"
      ],
      "text/plain": [
       "+--------------+---------+-------------+--------------+"
      ]
     },
     "metadata": {},
     "output_type": "display_data"
    },
    {
     "data": {
      "text/html": [
       "<html lang=\"en\">                                                     <head>                                                               <style>                                                              .sframe {                                                            font-size: 12px;                                                   font-family: HelveticaNeue;                                        border: 1px solid silver;                                        }                                                                  .sframe thead th {                                                   background: #F7F7F7;                                               font-family: HelveticaNeue-Medium;                                 font-size: 14px;                                                   line-height: 16.8px;                                               padding-top: 16px;                                                 padding-bottom: 16px;                                              padding-left: 10px;                                                padding-right: 38px;                                               border-top: 1px solid #E9E9E9;                                     border-bottom: 1px solid #E9E9E9;                                  white-space: nowrap;                                               overflow: hidden;                                                  text-overflow:ellipsis;                                            text-align:center;                                                 font-weight:normal;                                              }                                                                  .sframe tbody th {                                                   background: #FFFFFF;                                               text-align:left;                                                   font-weight:normal;                                                border-right: 1px solid #E9E9E9;                                 }                                                                  .sframe td {                                                         background: #FFFFFF;                                               padding-left: 10px;                                                padding-right: 38px;                                               padding-top: 14px;                                                 padding-bottom: 14px;                                              border-bottom: 1px solid #E9E9E9;                                  max-height: 0px;                                                   transition: max-height 5s ease-out;                                vertical-align: middle;                                            font-family: HelveticaNeue;                                        font-size: 12px;                                                   line-height: 16.8px;                                               background: #FFFFFF;                                             }                                                                  .sframe tr {                                                         padding-left: 10px;                                                padding-right: 38px;                                               padding-top: 14px;                                                 padding-bottom: 14px;                                              border-bottom: 1px solid #E9E9E9;                                  max-height: 0px;                                                   transition: max-height 5s ease-out;                                vertical-align: middle;                                            font-family: HelveticaNeue;                                        font-size: 12px;                                                   line-height: 16.8px;                                               background: #FFFFFF;                                             }                                                                  .sframe tr:hover {                                                   background: silver;                                              },                                                               </style>                                                         </head>                                                            <body>                                                               <h1>  </h1>                                             <table border=\"1\" class=\"dataframe sframe\">\n",
       "  <thead>\n",
       "    <tr style=\"text-align: right;\">\n",
       "      <th></th>\n",
       "      <th>SArray</th>\n",
       "    </tr>\n",
       "  </thead>\n",
       "  <tbody>\n",
       "    <tr>\n",
       "      <th>0</th>\n",
       "      <td><img src=\"data:image/png;base64,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\"/></td>\n",
       "    </tr>\n",
       "    <tr>\n",
       "      <th>1</th>\n",
       "      <td><img src=\"data:image/png;base64,iVBORw0KGgoAAAANSUhEUgAAACAAAAAgCAIAAAD8GO2jAAAIvUlEQVR4nD2WS49d13GFq2rvfd731bdf7GbTCkXJMhlHhm3ANiAbmjgD/bn8hQwzMjIJHEiDAAkMOQNrYEmMLItkk2z2497u+zznnnP23lWVAWWvYQ1qDb5aWIX/8q//tlqtYoyMzjmbqoe+/uPn/327nH/80a+rtCBRRWJQVu29l4DCAIntJQrH6aAAAGaezeZ9368vb8Jim6VpK7U413NhV6sVfi9ABRFZLVej4Xg2v6mKajIcWaAUXYxMRF3fr+p2ua05iooUeZYltus6VDk6mHTe5yJ3IYzH43VLi22dZKkdDod1XRMZRDQGE5v86PHjyagixKoYFsUgdUkSqWtaEUlBHEVRGA1GxbAaj6r55XNUIRAWsc6M9kZ+sz2+f6/yw3Lb7ry13nsiUlUWABVRPTg8QhUQReNcmlfVIKMsK7v1aiVA+9XIDUcuSZIsHZbZXBiVEUBUlEBRKaGkTKvCYlrxsrPWWhGJMapEEMsqdbMryuHDRz/M0izGcHW7aHtPSBqihJinyWg6LfLcew8ALk3bvgcFJKPCSKTGtCFEhLb3SGTruh6Px977PE0RlJBuF8thVZ2dnl68ufjrs2d5WUZnNMrienZ98eYnH/60vrkZloP7p6d99FlRKZkYoqrGrg3KguQFPHDrvUBil8ultbYsy8mw4hgBIEnS6XTv+m7xxddPj09P9g72JUtIod51vb6Z3DvK2m45v33+6uXDH9wf7h2WHEMIIuKaZiN3NtnavBSJgp11zh4eHpZlaYwB1cRaNGayNw3M52/e7B0fp8NBMAYUVSAG8W3wkYvJMDI3m+1ssTw5nlKMQr1GznPq0s64nFxuIAigNcY+efIEEWezG+DgnBtNpj7ErCr7GPeODuu+5RgyNBDECMa237Udllk6qLyPt8tVNSids52XEKN44YghQB+ki74PwVqh8+/OX76+8nVvPGdEhmPpjFVRFd+1wJwSOVGMDMwI0DaNsiCSgGZleX1zq2CioA/CwiKsysoCooCABuzVi/Mnv/jlcVFiu0kHKbMQaAi+3azq1cIlDtvWmBQFECREv9tuDsKBD36zXu5NJn3XOesIMbEucgcYDYlBBhEQMRZtf/vd/fIXeU5ickFwznCMxtB0PF4sFurDan7b7HoJLJEJ4Oby0iZOVfu2rckMs/zi5avxaPT64uL4aBxCAACOEVSFhYgsLp7j9V+6o4eKGSkSkXVOCJ988AHH6EMAhRCEAwPz4394uOOwC13f98SxXi7mm3qz3vz2n3/76J13ykEqbS+RG9/76DkGjt6OZdt89zTbO+mQMjKqap1DwsxYm2XWGABEoDTJxHt58MCrdNGLKHNs6uabL79+eHZ/UlWn909rX08Hw+3Z5vpu/s233/TdLgZvC1U/Xy4v5zjcz1CNMcYYRAwxXl5eFkVxeHgoogbRAFogJggx5Hnu8iw35sMfP87z3Bq7264DSmrddG9vtD89PD7Is0RQ7Xod5263ulzk4sZFYq0tioIQ2qbm0LeNzG8EERGAFIxC3e5eXrx+9N57SZK8Hfq2ITJkSNIkHY4UgDkWef7zn/3s+fkL+/CfflWl+wu069UKfHJ4eNi2LXO0FgF1ubq7vZspqkNDgCSqhNWgmM2uVBQRCFEBiIiIBgdHfb3jEAbTCSCjSlHk+Pm//461eOmbpm991zdN/emnn7W75icf/uPZ2Zk1howBFPZeI0tkUQ0cEZGZRURV/1YmGND9139+Nru++eVvPvr444/6ZrsLvf3izQUVU6UtRvAR/uP3v//yyy/T1L2+OP/kk09OTk5EJMQOVR0RiAKiSxMFRUYRMcYAQIghRv7j//7p6vqaFD799LODg8n7Dx8Qgv2fr77gbJzzLOV0tZWnT5/u7++nmVssZl9/81U1KokIUByZwJEAmLWLHgBCCMxMRAhARL33l5dvqrLyXZdC8vzZsx8/fr8L3i6WlwbWkaSz8dXFtcvs4b2jyWQsGOZ387ats8QhmE68soCCqCCiiAKCCgOqqiJgvd2Grj84Ph1Wg//79i/X11fPnn273q3s3iD3d13Xwy7hbbMuyny6P51Mxtvm6OLV+Xq1CmliwAIgAoh+LwRQVVWxoAAKgPPrGwK4d3oyHA7ny7tdvXr1+lXEzk7Ge9PjKbNZ7Lbreh0yPjm59+67j5bL5TVdrhZrrUoQQERV/TtVAAAAYSFVQgSA2c1dVQ2Ojg7Pzh68eP68azbWpiF4e/H6YmO3RT5qNRCgIZMlGSoOBxPn8r6Na64NAgAQETOrKgC89RAWZCAyqrLb9WiTIsua7aYs8gXZPCkF2N4/fRA2oa6318vb7WY7Hu9t1utnXZSgmSvef++D8bAKvo0x9H3X9733QVVUQURAMTFp4hJVffHiFSGsVwuf56iiLDdX8+nxxOZpEU0dYvBd39R1kZVpkuRZtoG63tZf/flrSyrcheBjjCFE5vgWQ4ysogTJ26ek2e2Gzq5XqyLPATT40O06YLQ3V7dXl1d3N7ebpq53uyItE2PbukGV7WZze/mGgAlZhBEAEL+HjCgiqmgoYRZVdYkjR8aYtm1ns9lmvbo05HJrl4vlar1udzuJUUVWi2VTNwcHR999+9duVxsSUrWGlJCI3hrA39MLBEiIJMwKEEJ/c33l+3a1XEyn473xME8T62yaZhlUMfGJsS4E/vwPf5juH5y/PB+PyjJzqXOJsYhonSWkt6uNISICIkAkImZhjtu63qwW3a754P1HB9NpliZZUdqz+2eDyShumxijZ9ntul3TBe/fffedw+l4VBZpYh06IkNEb2+JkBRURBSUURCAmfltUbMAoEucIwBQILTT6bQcVbFpo0RFlMh5ViEREhsEZwiYUQ0ZA6D6fawUgGKMzGyAI0QQsQAEFhiREAgCt4gSBaxoVGZKjFFg7UOoHYtRpxyFDLMFRdCgLErKKIRMqMakvQYCY4Ua2K79yllXQpVgKiy9tg1vPPcx6v8DVMgB5vGdwRUAAAAASUVORK5CYII=\"/></td>\n",
       "    </tr>\n",
       "    <tr>\n",
       "      <th>2</th>\n",
       "      <td><img src=\"data:image/png;base64,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\"/></td>\n",
       "    </tr>\n",
       "    <tr>\n",
       "      <th>3</th>\n",
       "      <td><img src=\"data:image/png;base64,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\"/></td>\n",
       "    </tr>\n",
       "    <tr>\n",
       "      <th>4</th>\n",
       "      <td><img src=\"data:image/png;base64,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\"/></td>\n",
       "    </tr>\n",
       "  </tbody>\n",
       "</table>                          </body>                                                          </html>"
      ],
      "text/plain": [
       "<IPython.core.display.HTML object>"
      ]
     },
     "metadata": {},
     "output_type": "display_data"
    }
   ],
   "source": [
    "show_neighbours(13)"
   ]
  },
  {
   "cell_type": "code",
   "execution_count": 51,
   "metadata": {},
   "outputs": [
    {
     "data": {
      "text/html": [
       "<pre>Starting pairwise querying.</pre>"
      ],
      "text/plain": [
       "Starting pairwise querying."
      ]
     },
     "metadata": {},
     "output_type": "display_data"
    },
    {
     "data": {
      "text/html": [
       "<pre>+--------------+---------+-------------+--------------+</pre>"
      ],
      "text/plain": [
       "+--------------+---------+-------------+--------------+"
      ]
     },
     "metadata": {},
     "output_type": "display_data"
    },
    {
     "data": {
      "text/html": [
       "<pre>| Query points | # Pairs | % Complete. | Elapsed Time |</pre>"
      ],
      "text/plain": [
       "| Query points | # Pairs | % Complete. | Elapsed Time |"
      ]
     },
     "metadata": {},
     "output_type": "display_data"
    },
    {
     "data": {
      "text/html": [
       "<pre>+--------------+---------+-------------+--------------+</pre>"
      ],
      "text/plain": [
       "+--------------+---------+-------------+--------------+"
      ]
     },
     "metadata": {},
     "output_type": "display_data"
    },
    {
     "data": {
      "text/html": [
       "<pre>| 0            | 1       | 0.0498753   | 13.188ms     |</pre>"
      ],
      "text/plain": [
       "| 0            | 1       | 0.0498753   | 13.188ms     |"
      ]
     },
     "metadata": {},
     "output_type": "display_data"
    },
    {
     "data": {
      "text/html": [
       "<pre>| Done         |         | 100         | 90.327ms     |</pre>"
      ],
      "text/plain": [
       "| Done         |         | 100         | 90.327ms     |"
      ]
     },
     "metadata": {},
     "output_type": "display_data"
    },
    {
     "data": {
      "text/html": [
       "<pre>+--------------+---------+-------------+--------------+</pre>"
      ],
      "text/plain": [
       "+--------------+---------+-------------+--------------+"
      ]
     },
     "metadata": {},
     "output_type": "display_data"
    },
    {
     "data": {
      "text/html": [
       "<html lang=\"en\">                                                     <head>                                                               <style>                                                              .sframe {                                                            font-size: 12px;                                                   font-family: HelveticaNeue;                                        border: 1px solid silver;                                        }                                                                  .sframe thead th {                                                   background: #F7F7F7;                                               font-family: HelveticaNeue-Medium;                                 font-size: 14px;                                                   line-height: 16.8px;                                               padding-top: 16px;                                                 padding-bottom: 16px;                                              padding-left: 10px;                                                padding-right: 38px;                                               border-top: 1px solid #E9E9E9;                                     border-bottom: 1px solid #E9E9E9;                                  white-space: nowrap;                                               overflow: hidden;                                                  text-overflow:ellipsis;                                            text-align:center;                                                 font-weight:normal;                                              }                                                                  .sframe tbody th {                                                   background: #FFFFFF;                                               text-align:left;                                                   font-weight:normal;                                                border-right: 1px solid #E9E9E9;                                 }                                                                  .sframe td {                                                         background: #FFFFFF;                                               padding-left: 10px;                                                padding-right: 38px;                                               padding-top: 14px;                                                 padding-bottom: 14px;                                              border-bottom: 1px solid #E9E9E9;                                  max-height: 0px;                                                   transition: max-height 5s ease-out;                                vertical-align: middle;                                            font-family: HelveticaNeue;                                        font-size: 12px;                                                   line-height: 16.8px;                                               background: #FFFFFF;                                             }                                                                  .sframe tr {                                                         padding-left: 10px;                                                padding-right: 38px;                                               padding-top: 14px;                                                 padding-bottom: 14px;                                              border-bottom: 1px solid #E9E9E9;                                  max-height: 0px;                                                   transition: max-height 5s ease-out;                                vertical-align: middle;                                            font-family: HelveticaNeue;                                        font-size: 12px;                                                   line-height: 16.8px;                                               background: #FFFFFF;                                             }                                                                  .sframe tr:hover {                                                   background: silver;                                              },                                                               </style>                                                         </head>                                                            <body>                                                               <h1>  </h1>                                             <table border=\"1\" class=\"dataframe sframe\">\n",
       "  <thead>\n",
       "    <tr style=\"text-align: right;\">\n",
       "      <th></th>\n",
       "      <th>SArray</th>\n",
       "    </tr>\n",
       "  </thead>\n",
       "  <tbody>\n",
       "    <tr>\n",
       "      <th>0</th>\n",
       "      <td><img src=\"data:image/png;base64,iVBORw0KGgoAAAANSUhEUgAAACAAAAAgCAIAAAD8GO2jAAAJJ0lEQVR4nCXVyZIk2VUA0HvvG3wI9/CYIzKyuiZSLYkGZJgaCS3ZYRgr/g8zVnwEpoUwA5khVOpSVavHUlXnUJmRMUf4+Nzfe5cF5ycOPry/xa5tys3ND7dZNiqbsqxdWXV1XVTFuS7Otq2DCNebw+5Q1MYy8WA4e/byR5dPl4vlYjSepEmqA83Om8Yc8/zm7j7JBr1+T6lQ6xA//Olrb6q7H75/++bLX/7il2Gs7+83WgU6EFrJXhQRwvG8N52zHj0gC7y4fDlfPhOSHLuqaYo8r+sGgQOtw15iPUsdhr3IGGs7J3ebh4D8d99+8+b1683jPUP7+tWbJ8ulUr6q6r/667/JBsNTnl/9+MdIUmotdGBdcz4fnfcoKAjD2WyutSYCYAdCnYvqlBc+d84ye5RNXaCC3WYTavX+3beXF2Nbn0Kaxgp0TH/43/86F/U//fO/LOczyw6lAK37/d5sNg3CHinyAM5a772zrbWt7bq6Lpu6ClRgO3aOZZIM2nIdh/H8YvnJy8tPPplOpsM0UvPFOIqT37/6wlq/vJiQAHYglVCBiqIAiIztOmMIiQidc851zrbWs7PWOofQOeu9A1nXtWQzXwzTZmAl5J29eL68ejFVoXy4WV8uR1dXL5Ik8q6wFnxnGWzTVIEzINh0NTFrra21bWvYWe7s6vb+1Zuv8rKsqirpJfJw/6afqrdf/2fT1iRCArUYNcvBU60mp9W6KZtIKwLbtY01zho4i6iTx5pV4zprujiIwzBUSgoiZ0x9Pv37v/3rf/zmv6P+4PFxRSRkez4YGp7y4ze31+ySatd+9pNIRKEMeptTtC/o5nd3ZVEJmRRVU7VVVVm0qATVpkL0aS8mEmmaXv3Fi1/9/GeK7Xn7WO42RV2zZ2utPBcUpPHX3+1/982hbZuns+e79smr6/62yR0loKfopO1iZhXFc8PV5vgxv70eBshgm/ZsbU1Eg8Hwy7dfXr/7/slk6LtuNhndnwpGRER5ciJ/uDtVoGUisf30J/Nsvrxe70eLhYdAhuF4Nr67W7XGpVo/vZgM0+ENm/2f3zjXGNtZ64jImK4xbZ4XLxcT53Aymd4fT8AAiPLXv/3tbNprrXGmUyoozvX+7buP6/XT+XJ5uXz9x9fN44eH1c5UbZMl3XyqhhMdUdmUkyzsSts2DrizTUNI2/UWinqa9ULAgQ73dSHCUNrS6Pni2ZOXKFYqSMKot/nhPVljmurJYsLm0+u7j0jYtOVmfS6P2/HFk/F82j7/9Opi9NX776tm5Z0LiH722WfG2pt310fv2TYKAAGBpExIgw8///t/fHJcVVVpjXvY3Eex3p1Pb7/6ahD3+mkaDXJQILxr8mK12TyfToTSX3/3bWVq9C4KdBbFn3/+t4fD6eHusUG5Pe8AujhJ4nQgRRIvfvRTMZj30pHubJkXz0R0Om5Zym/ef0DriYQHCkgr9P1hVHRclDUDnfMqG2ZSRkw+FPTqi9dp0h9M50XTTvs9gi7PC29ZPh528MOf9cSwTIOw3xuPribz6rQtDqeyrlrblUUJnXfGhIFM4ticzqv1ulqtBkl6+cmLx92xNIVl3pVt2eZ5Yzt20+kMUFXVe1Pu8B8+/8W68aI/HV68DKNskPVn0yQKtLUEWh5Ms89z8J67tslP1elsyqq2nT/s+rKTQXIoDQUUaSXZH9Z7YzrrmyAJs/FTzg+pNvJ4PoPnw+lIng8U3HgIomh+sZhOx+l04oNeY3Wahs+m/eK4u7n9ePr4KNoOjQF3IuQo66dxpH17OOxbY9vWONfWTTMaLyXaar+Tkusoik/FGatT1hvVjtvc3Tc3h902fVjp0dxHg3CQCiBw0HbeMkQkrefDfn8xmcRRBM5WRbHf71vTAngERObdw7Wszqf9Rv7dT5/mhm8+rvYPN9GCtQoFStP6YmPz9bY2f6IoPr242k/HgQ4ih4u4V+0PDmA8nubblXCtUElnWhUE3FljWkQbKABz7mcxyqlcjtNdbmb96Fg3h/NHFSekY8AopF5nm3Z7u7yY7b/94nyXqTAFokCqwSDL5jNZbpXJC9+xbbmthW+eXQyFwONpH0dBFmnnuu1+K6WQWQ9/9fPP8ro9nM7rw/l4PLNXYZR54ElfvFzEH+73h5NJ4xiJ26pet2UUKbPdUFHUkrwtB4GejHo95csyfzpLLhaL7erxbrPi7iwdI3vux1EaRtMkXgyyx+1utd2fivsOaDYeBYEYpcH1d3ettVk/Uyoej+cX8+G62TtqA3BJGD2ZjCaz/mm32dy/G8aTEFLb7BfjeDF+IQUJRs/eAwkdqHFAg4FeXPQftufHzVEA95JxUIHv6mJzy81Zil7sm/kiePJiKsTIskcA27XOlIjdy2fzaV9HcLx6mqGQyCSjWIIiaZ21ACjYWwk4CYJsMLm8aG7v1s62YRwAO+9smR+lKtabw+oBLmeZZ1GW5mG1OhwOgzRMlFPCN5VBp8NeGuiAwUlSEBBqTW2LpmVGAJAemBBkEtHl5PHx9sP9hruaiMix9+bU5f/z+3wy6iMK09g8z533ZpJ1qVYSSytC6/rmPBr2w0jJvKzYOa1EGMZaYV1baz15RvbAMEoC8NF+x88XWWttbax3igGbsrvON0SslAyDMO3HMkxqxNIY5dyyl2R91YsDoUgSBXV9ImaiSigZhmgMu9YDMwE7tstpNsn+Mi+rqmlP5/J4rPOyNi6wCIgokEhQGIRxoIKA+nE0G4STfhCJ/w9NSGdqYpBE4D3bVoDQgp1G54CdE4DILAmTKIyDYJgmZmrLqjmXZVE3xqH3ILALlR1nPB31xlmvFwpwrWVkIEAhTXmI4hjAgSfvAdEJBBDMBFop75E9egb2DMwCIYp0FOnhoFdV1aEyjDDqqXE/TGKtJAGA805ILUACgGeWSiKwQ0AlJRExs/feM0skIRUwOc/YMSEBIAB4dABApPr94Zy8IIi1DoiYfecsACAikiCUAEjM0llD6ElFxA49AHtiloQeAdkDgJZCCAUgEQkJAR0SSimkVCQsgmML4NADeSG888zeegbvBREgSmLLjl2LnfdEChGB2QMzCSBAJmYWAkiQIAIEJCWEICJAAC8QBBJ6Zu8dACMhAIEH9mgtA/D/AZmkvxyxzhtZAAAAAElFTkSuQmCC\"/></td>\n",
       "    </tr>\n",
       "    <tr>\n",
       "      <th>1</th>\n",
       "      <td><img src=\"data:image/png;base64,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\"/></td>\n",
       "    </tr>\n",
       "    <tr>\n",
       "      <th>2</th>\n",
       "      <td><img src=\"data:image/png;base64,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\"/></td>\n",
       "    </tr>\n",
       "    <tr>\n",
       "      <th>3</th>\n",
       "      <td><img src=\"data:image/png;base64,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\"/></td>\n",
       "    </tr>\n",
       "    <tr>\n",
       "      <th>4</th>\n",
       "      <td><img src=\"data:image/png;base64,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\"/></td>\n",
       "    </tr>\n",
       "  </tbody>\n",
       "</table>                          </body>                                                          </html>"
      ],
      "text/plain": [
       "<IPython.core.display.HTML object>"
      ]
     },
     "metadata": {},
     "output_type": "display_data"
    }
   ],
   "source": [
    "show_neighbours(26)"
   ]
  },
  {
   "cell_type": "code",
   "execution_count": 52,
   "metadata": {},
   "outputs": [
    {
     "data": {
      "text/html": [
       "<pre>Starting pairwise querying.</pre>"
      ],
      "text/plain": [
       "Starting pairwise querying."
      ]
     },
     "metadata": {},
     "output_type": "display_data"
    },
    {
     "data": {
      "text/html": [
       "<pre>+--------------+---------+-------------+--------------+</pre>"
      ],
      "text/plain": [
       "+--------------+---------+-------------+--------------+"
      ]
     },
     "metadata": {},
     "output_type": "display_data"
    },
    {
     "data": {
      "text/html": [
       "<pre>| Query points | # Pairs | % Complete. | Elapsed Time |</pre>"
      ],
      "text/plain": [
       "| Query points | # Pairs | % Complete. | Elapsed Time |"
      ]
     },
     "metadata": {},
     "output_type": "display_data"
    },
    {
     "data": {
      "text/html": [
       "<pre>+--------------+---------+-------------+--------------+</pre>"
      ],
      "text/plain": [
       "+--------------+---------+-------------+--------------+"
      ]
     },
     "metadata": {},
     "output_type": "display_data"
    },
    {
     "data": {
      "text/html": [
       "<pre>| 0            | 1       | 0.0498753   | 12.17ms      |</pre>"
      ],
      "text/plain": [
       "| 0            | 1       | 0.0498753   | 12.17ms      |"
      ]
     },
     "metadata": {},
     "output_type": "display_data"
    },
    {
     "data": {
      "text/html": [
       "<pre>| Done         |         | 100         | 88.455ms     |</pre>"
      ],
      "text/plain": [
       "| Done         |         | 100         | 88.455ms     |"
      ]
     },
     "metadata": {},
     "output_type": "display_data"
    },
    {
     "data": {
      "text/html": [
       "<pre>+--------------+---------+-------------+--------------+</pre>"
      ],
      "text/plain": [
       "+--------------+---------+-------------+--------------+"
      ]
     },
     "metadata": {},
     "output_type": "display_data"
    },
    {
     "data": {
      "text/html": [
       "<html lang=\"en\">                                                     <head>                                                               <style>                                                              .sframe {                                                            font-size: 12px;                                                   font-family: HelveticaNeue;                                        border: 1px solid silver;                                        }                                                                  .sframe thead th {                                                   background: #F7F7F7;                                               font-family: HelveticaNeue-Medium;                                 font-size: 14px;                                                   line-height: 16.8px;                                               padding-top: 16px;                                                 padding-bottom: 16px;                                              padding-left: 10px;                                                padding-right: 38px;                                               border-top: 1px solid #E9E9E9;                                     border-bottom: 1px solid #E9E9E9;                                  white-space: nowrap;                                               overflow: hidden;                                                  text-overflow:ellipsis;                                            text-align:center;                                                 font-weight:normal;                                              }                                                                  .sframe tbody th {                                                   background: #FFFFFF;                                               text-align:left;                                                   font-weight:normal;                                                border-right: 1px solid #E9E9E9;                                 }                                                                  .sframe td {                                                         background: #FFFFFF;                                               padding-left: 10px;                                                padding-right: 38px;                                               padding-top: 14px;                                                 padding-bottom: 14px;                                              border-bottom: 1px solid #E9E9E9;                                  max-height: 0px;                                                   transition: max-height 5s ease-out;                                vertical-align: middle;                                            font-family: HelveticaNeue;                                        font-size: 12px;                                                   line-height: 16.8px;                                               background: #FFFFFF;                                             }                                                                  .sframe tr {                                                         padding-left: 10px;                                                padding-right: 38px;                                               padding-top: 14px;                                                 padding-bottom: 14px;                                              border-bottom: 1px solid #E9E9E9;                                  max-height: 0px;                                                   transition: max-height 5s ease-out;                                vertical-align: middle;                                            font-family: HelveticaNeue;                                        font-size: 12px;                                                   line-height: 16.8px;                                               background: #FFFFFF;                                             }                                                                  .sframe tr:hover {                                                   background: silver;                                              },                                                               </style>                                                         </head>                                                            <body>                                                               <h1>  </h1>                                             <table border=\"1\" class=\"dataframe sframe\">\n",
       "  <thead>\n",
       "    <tr style=\"text-align: right;\">\n",
       "      <th></th>\n",
       "      <th>SArray</th>\n",
       "    </tr>\n",
       "  </thead>\n",
       "  <tbody>\n",
       "    <tr>\n",
       "      <th>0</th>\n",
       "      <td><img src=\"data:image/png;base64,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\"/></td>\n",
       "    </tr>\n",
       "    <tr>\n",
       "      <th>1</th>\n",
       "      <td><img src=\"data:image/png;base64,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\"/></td>\n",
       "    </tr>\n",
       "    <tr>\n",
       "      <th>2</th>\n",
       "      <td><img src=\"data:image/png;base64,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\"/></td>\n",
       "    </tr>\n",
       "    <tr>\n",
       "      <th>3</th>\n",
       "      <td><img src=\"data:image/png;base64,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\"/></td>\n",
       "    </tr>\n",
       "    <tr>\n",
       "      <th>4</th>\n",
       "      <td><img src=\"data:image/png;base64,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\"/></td>\n",
       "    </tr>\n",
       "  </tbody>\n",
       "</table>                          </body>                                                          </html>"
      ],
      "text/plain": [
       "<IPython.core.display.HTML object>"
      ]
     },
     "metadata": {},
     "output_type": "display_data"
    }
   ],
   "source": [
    "show_neighbours(2000)"
   ]
  },
  {
   "cell_type": "code",
   "execution_count": null,
   "metadata": {},
   "outputs": [],
   "source": []
  }
 ],
 "metadata": {
  "kernelspec": {
   "display_name": "Python 3",
   "language": "python",
   "name": "python3"
  },
  "language_info": {
   "codemirror_mode": {
    "name": "ipython",
    "version": 3
   },
   "file_extension": ".py",
   "mimetype": "text/x-python",
   "name": "python",
   "nbconvert_exporter": "python",
   "pygments_lexer": "ipython3",
   "version": "3.7.7"
  }
 },
 "nbformat": 4,
 "nbformat_minor": 4
}
